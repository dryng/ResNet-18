{
 "cells": [
  {
   "cell_type": "code",
   "execution_count": 3,
   "metadata": {},
   "outputs": [],
   "source": [
    "import torch\n",
    "import torch.nn as nn\n",
    "import torch.nn.functional as F\n",
    "import torchvision\n",
    "import torchvision.transforms as transforms\n",
    "import matplotlib.pyplot as plt\n",
    "import numpy as np"
   ]
  },
  {
   "cell_type": "markdown",
   "metadata": {},
   "source": [
    "CIFAR10 with ResNet-18 Architecture\n",
    "<br>\n",
    "By: Danny Ryngler 12/4/20"
   ]
  },
  {
   "cell_type": "code",
   "execution_count": 4,
   "metadata": {},
   "outputs": [],
   "source": [
    "device = torch.device('cuda' if torch.cuda.is_available() else 'cpu')"
   ]
  },
  {
   "cell_type": "code",
   "execution_count": 14,
   "metadata": {},
   "outputs": [],
   "source": [
    "transform = transforms.Compose(\n",
    "    [transforms.ToTensor(), transforms.Normalize((0.5, 0.5, 0.5), (0.5, 0.5, 0.5))]\n",
    ")"
   ]
  },
  {
   "cell_type": "code",
   "execution_count": 15,
   "metadata": {},
   "outputs": [
    {
     "name": "stdout",
     "output_type": "stream",
     "text": [
      "Downloading https://www.cs.toronto.edu/~kriz/cifar-10-python.tar.gz to ./data/cifar-10-python.tar.gz\n"
     ]
    },
    {
     "name": "stderr",
     "output_type": "stream",
     "text": [
      "100.0%"
     ]
    },
    {
     "name": "stdout",
     "output_type": "stream",
     "text": [
      "Extracting ./data/cifar-10-python.tar.gz to ./data\n"
     ]
    }
   ],
   "source": [
    "train_dataset = torchvision.datasets.CIFAR10(root='./data', train=True, download=True, transform=transform)"
   ]
  },
  {
   "cell_type": "code",
   "execution_count": 16,
   "metadata": {},
   "outputs": [
    {
     "name": "stdout",
     "output_type": "stream",
     "text": [
      "Files already downloaded and verified\n"
     ]
    }
   ],
   "source": [
    "test_dataset = torchvision.datasets.CIFAR10(root='./data', train=False, download=True, transform=transform)"
   ]
  },
  {
   "cell_type": "code",
   "execution_count": 18,
   "metadata": {},
   "outputs": [],
   "source": [
    "train_loader = torch.utils.data.DataLoader(train_dataset, batch_size=32, shuffle=True)"
   ]
  },
  {
   "cell_type": "code",
   "execution_count": 19,
   "metadata": {},
   "outputs": [],
   "source": [
    "test_loader = torch.utils.data.DataLoader(test_dataset, batch_size=32, shuffle=False)"
   ]
  },
  {
   "cell_type": "code",
   "execution_count": 20,
   "metadata": {},
   "outputs": [],
   "source": [
    "classes = ('plane', 'car', 'bird', 'cat', 'deer', 'dog', 'frog', 'horse', 'ship', 'truck')"
   ]
  },
  {
   "cell_type": "markdown",
   "metadata": {},
   "source": [
    "### The identity block \n",
    "\n",
    "<img src=\"images/IdentityBlock.png\" style=\"width:375px;height:550px;\">\n",
    "<caption><center> <u> <font color='purple'>Figure 1:</u><font color='purple'> Identity block. Skip connection \"skips over\" 2 layers.</center></caption>"
   ]
  },
  {
   "cell_type": "code",
   "execution_count": 26,
   "metadata": {},
   "outputs": [],
   "source": [
    "class IdentityBlock(nn.Module):\n",
    "    \"\"\"\"\n",
    "    Implementation of the identity block (with 3x3 convolutions) as defined in Figure 1\n",
    "\n",
    "    Arguments:\n",
    "    channels -- List, specifying the number of the channels for each of the 3 filters. ex [64,64,64]\n",
    "    strides -- Integer, specifying the stride to be used. Default = 1\n",
    "\n",
    "    Returns:\n",
    "    X -- output of the identity block, tensor of shape (m, n_C, n_H, n_W)\n",
    "    \"\"\"\n",
    "\n",
    "    def __init__(self, input_channels, output_channels, strides=1):\n",
    "        super(IdentityBlock, self).__init__()\n",
    "\n",
    "        # Main 1\n",
    "        self.conv1 = nn.Conv2d(input_channels, output_channels, kernel_size=3, padding=1, stride=strides)\n",
    "        self.bn1 = nn.BatchNorm2d(output_channels)\n",
    "\n",
    "        # Main 2\n",
    "        self.conv2 = nn.Conv2d(output_channels, output_channels, kernel_size=3, padding=1)\n",
    "        self.bn2 = nn.BatchNorm2d(output_channels)\n",
    "\n",
    "    def forward(self, X):\n",
    "        X_shortcut = X\n",
    "\n",
    "        # Main 1\n",
    "        X = self.conv1(X)\n",
    "        X = F.relu(self.bn1(X))\n",
    "\n",
    "        # Main 2\n",
    "        X = self.conv2(X)\n",
    "        X = F.relu(self.bn2(X))\n",
    "\n",
    "        # Shortcut\n",
    "        X = X + X_shortcut\n",
    "        X = F.relu(X)\n",
    "\n",
    "        return X"
   ]
  },
  {
   "cell_type": "markdown",
   "metadata": {},
   "source": [
    "## The convolutional block\n",
    "\n",
    "The ResNet \"convolutional block\". It is used when the input and output dimensions don't match up. The difference with the identity block is that there is a CONV2D layer in the shortcut path: \n",
    "\n",
    "<img src=\"images/ConvolutionalBlock.png\" style=\"width:500px;height:550px;\">\n",
    "<caption><center> <u> <font color='purple'> Figure 2: </u><font color='purple'> Convolutional block </center></caption>"
   ]
  },
  {
   "cell_type": "code",
   "execution_count": 27,
   "metadata": {},
   "outputs": [],
   "source": [
    "class ConvolutionBlock(nn.Module):\n",
    "    \"\"\"\"\n",
    "    Implementation of the Convolutional block (with 3x3 convolutions) as defined in Figure 2.\n",
    "    Uses a 1x1 convolution so shortcut and input have the same number of channels.\n",
    "\n",
    "    Arguments:\n",
    "    channels -- List, specifying the number of the channels for each of the 3 filters. ex [64,64,128]\n",
    "    strides -- Integer, specifying the stride to be used. Default = 1\n",
    "\n",
    "    Returns:\n",
    "    X -- output of the convolutional block, tensor of shape (m, n_C, n_H, n_W)\n",
    "    \"\"\"\n",
    "    def __init__(self, input_channels, output_channels, strides=1):\n",
    "        super(ConvolutionBlock, self).__init__()\n",
    "\n",
    "        # Main 1\n",
    "        self.conv1 = nn.Conv2d(input_channels, output_channels, kernel_size=3, padding=1, stride=strides)\n",
    "        self.bn1 = nn.BatchNorm2d(output_channels)\n",
    "\n",
    "        # Main 2\n",
    "        self.conv2 = nn.Conv2d(output_channels, output_channels, kernel_size=3, padding=1)\n",
    "        self.bn2 = nn.BatchNorm2d(output_channels)\n",
    "\n",
    "        # Shortcut\n",
    "        self.conv_shortcut = nn.Conv2d(input_channels, output_channels, kernel_size=1, stride=strides)\n",
    "\n",
    "    def forward(self, X):\n",
    "        X_shortcut = X\n",
    "\n",
    "        # Main 1\n",
    "        X = self.conv1(X)\n",
    "        X = F.relu(self.bn1(X))\n",
    "\n",
    "        # Main 2\n",
    "        X = self.conv2(X)\n",
    "        X = F.relu(self.bn2(X))\n",
    "\n",
    "        # Shortcut\n",
    "        X_shortcut = self.conv_shortcut(X_shortcut)\n",
    "        X = X + X_shortcut\n",
    "        X = F.relu(X)\n",
    "\n",
    "        return X\n"
   ]
  },
  {
   "cell_type": "markdown",
   "metadata": {},
   "source": [
    "## ResNet model (18 layers)\n",
    "\n",
    "<img src=\"images/ResNet-18.png\" style=\"width:400px;height:1000px;\">\n",
    "<caption><center> <u> <font color='purple'> Figure 3 </u><font color='purple'>  : ResNet-18 Architecture </center></caption>"
   ]
  },
  {
   "cell_type": "code",
   "execution_count": 43,
   "metadata": {},
   "outputs": [],
   "source": [
    "class ResNet18(nn.Module):\n",
    "    \"\"\"\n",
    "    Implementation of the ResNet-18 Architecture in Figure 3. Has the following architecture:\n",
    "    CONV2D -> BATCHNORM -> RELU -> MAXPOOL -> IDBlOCK -> CONVBLOCK -> -> CONVBLOCK\n",
    "    -> CONVBLOCK -> AVGPOOL -> FC\n",
    "\n",
    "    Arguments:\n",
    "    input_shape -- shape of the images of the dataset. ex (1,3,32,32)\n",
    "    classes -- integer, number of classes\n",
    "\n",
    "    Returns:\n",
    "    X -- output of the Residual Network, tensor of shape (m, 10)\n",
    "    \"\"\"\n",
    "    \n",
    "    # NEED TO FIGURE OUT X\n",
    "    \n",
    "    def __init__(self, input_shape, classes):\n",
    "        super(ResNet18, self).__init__()\n",
    "        \n",
    "        # Stage 1\n",
    "        self.conv_s1 = nn.Conv2d(input_shape[1],64,kernel_size=7,stride=2,padding=3)\n",
    "        self.bn_s1 = nn.BatchNorm2d(64)\n",
    "        self.relu_s1 = nn.ReLU()\n",
    "        self.maxpool_s1 = nn.MaxPool2d(kernel_size=3,stride=2,padding=1)\n",
    "        \n",
    "        # Block 1\n",
    "        self.ResBlock_1 = IdentityBlock(64,64)\n",
    "        self.ResBlock_1 = IdentityBlock(64,64)\n",
    "        \n",
    "        # Block 2\n",
    "        self.ResBlock_2 = ConvolutionalBlock(64,128)\n",
    "        self.ResBlock_2 = ConvolutionalBlock(64,128)\n",
    "        \n",
    "        # Block 3\n",
    "        self.ResBlock_3 = ConvolutionalBlock(128,256)\n",
    "        self.ResBlock_3 = ConvolutionalBlock(128,256)\n",
    "        \n",
    "        # Block 4\n",
    "        self.ResBlock_4 = ConvolutionalBlock(256,512)\n",
    "        self.ResBlock_4 = ConvolutionalBlock(256,512)\n",
    "        \n",
    "        # Avgerage Pooling\n",
    "        self.avg_pool = nn.AdaptiveAvgPool2d((1,1))\n",
    "        \n",
    "        # Fully Contected Layers\n",
    "        self.flatten = nn.Flatten()\n",
    "        self.fc1 = nn.Linear(512,10)\n",
    "        \n",
    "    def forward(self, X):\n",
    "        # Stage 1\n",
    "        X = self.conv_s1(X)\n",
    "        X = self.bn_s1(X)\n",
    "        X = self.relu_s1(X)\n",
    "        X = self.maxpool_s1(X)\n",
    "                                            \n",
    "        # Block 1\n",
    "        X = self.ResBlock_1(X)\n",
    "\n",
    "        # Block 2\n",
    "        X = self.ResBlock_2(X)\n",
    "        \n",
    "        # Block 3\n",
    "        X = self.ResBlock_3(X)\n",
    "\n",
    "        # Block 4\n",
    "        X = self.ResBlock_4(X)\n",
    "\n",
    "        # Average Pooling\n",
    "        X = self.avg_pool(X)\n",
    "                                             \n",
    "        # Fully Conected Layers\n",
    "        X = self.flatten(X)\n",
    "        X = self.fc1(X)\n",
    "\n",
    "        return X"
   ]
  },
  {
   "cell_type": "code",
   "execution_count": 44,
   "metadata": {},
   "outputs": [],
   "source": [
    "model = ResNet18([-1,3,32,32],10).to(device)"
   ]
  },
  {
   "cell_type": "code",
   "execution_count": 45,
   "metadata": {},
   "outputs": [],
   "source": [
    "criterion = nn.CrossEntropyLoss()"
   ]
  },
  {
   "cell_type": "code",
   "execution_count": 46,
   "metadata": {},
   "outputs": [],
   "source": [
    "optimizer = torch.optim.Adam(model.parameters(), lr=0.01)"
   ]
  },
  {
   "cell_type": "code",
   "execution_count": 47,
   "metadata": {},
   "outputs": [],
   "source": [
    "num_epochs = 5"
   ]
  },
  {
   "cell_type": "code",
   "execution_count": 48,
   "metadata": {},
   "outputs": [],
   "source": [
    "n_total_steps = len(train_loader)"
   ]
  },
  {
   "cell_type": "code",
   "execution_count": null,
   "metadata": {},
   "outputs": [],
   "source": [
    "costs = []\n",
    "for epoch in range(num_epochs):\n",
    "    for i, (images, labels) in enumerate(train_loader):\n",
    "        images = images.to(device)\n",
    "        labels = labels.to(device)\n",
    "\n",
    "        # Forward pass\n",
    "        outputs = model(images)\n",
    "        loss = criterion(outputs, labels)\n",
    "\n",
    "        # Backward and optimize\n",
    "        optimizer.zero_grad()\n",
    "        loss.backward()\n",
    "        optimizer.step()\n",
    "        \n",
    "        #keep track of costs\n",
    "        costs.append(loss.item())\n",
    "\n",
    "        if (i + 1) % 20 == 0:\n",
    "            print(f'Epoch [{epoch + 1}/{num_epochs}], Step [{i + 1}/{n_total_steps}], Loss: {loss.item():.4f}')\n",
    "            \n",
    "    # plot costs \n",
    "    plt.plot(np.squeeze(costs))\n",
    "    plt.ylabel('cost')\n",
    "    plt.xlabel('iterations (per hundreds)')\n",
    "    plt.title(\"Learning rate =\" + str(learning_rate))\n",
    "    plt.show()"
   ]
  },
  {
   "cell_type": "code",
   "execution_count": null,
   "metadata": {},
   "outputs": [],
   "source": [
    "# Accuracy\n",
    "with torch.no_grad():\n",
    "    n_correct = 0\n",
    "    n_samples = 0\n",
    "    n_class_correct = [0 for i in range(10)]\n",
    "    n_class_samples = [0 for i in range(10)]\n",
    "    for images, labels in test_loader:\n",
    "        images = images.to(device)\n",
    "        labels = labels.to(device)\n",
    "        outputs = model(images)\n",
    "        # max returns (value ,index)\n",
    "        _, predicted = torch.max(outputs, 1)\n",
    "        n_samples += labels.size(0)\n",
    "        n_correct += (predicted == labels).sum().item()\n",
    "\n",
    "        for i in range(batch_size):\n",
    "            label = labels[i]\n",
    "            pred = predicted[i]\n",
    "            if (label == pred):\n",
    "                n_class_correct[label] += 1\n",
    "            n_class_samples[label] += 1\n",
    "\n",
    "    acc = 100.0 * n_correct / n_samples\n",
    "    print(f'Accuracy of the network: {acc} %')\n",
    "\n",
    "    for i in range(10):\n",
    "        acc = 100.0 * n_class_correct[i] / n_class_samples[i]\n",
    "        print(f'Accuracy of {classes[i]}: {acc} %')"
   ]
  }
 ],
 "metadata": {
  "kernelspec": {
   "display_name": "Python 3",
   "language": "python",
   "name": "python3"
  },
  "language_info": {
   "codemirror_mode": {
    "name": "ipython",
    "version": 3
   },
   "file_extension": ".py",
   "mimetype": "text/x-python",
   "name": "python",
   "nbconvert_exporter": "python",
   "pygments_lexer": "ipython3",
   "version": "3.8.5"
  }
 },
 "nbformat": 4,
 "nbformat_minor": 4
}
